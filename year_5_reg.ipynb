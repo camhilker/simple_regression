{
 "cells": [
  {
   "cell_type": "code",
   "execution_count": 271,
   "id": "38d83c58",
   "metadata": {},
   "outputs": [],
   "source": [
    "import pandas as pd\n",
    "import numpy as np\n",
    "\n",
    "from random import sample\n",
    "from scipy import stats\n",
    "\n",
    "from sklearn.linear_model import LinearRegression\n",
    "\n",
    "import matplotlib.pyplot as plt\n",
    "import seaborn as sns"
   ]
  },
  {
   "cell_type": "code",
   "execution_count": 298,
   "id": "04024510",
   "metadata": {},
   "outputs": [],
   "source": [
    "file = 'GM23_Master Sales Table (FINAL).xlsx'"
   ]
  },
  {
   "cell_type": "code",
   "execution_count": 299,
   "id": "d07d07dd",
   "metadata": {},
   "outputs": [],
   "source": [
    "base_data = (pd.read_excel(file)\n",
    "             .replace('no data', np.nan)\n",
    "             [['Year 1 Sales - Inf', 'Year 2 Sales - Inf', \n",
    "               'Year 3 Sales - Inf', 'Year 4 Sales - Inf', \n",
    "               'Year 5 Sales - Inf']]\n",
    "             .dropna(axis=0, how='any')\n",
    "             .reset_index()\n",
    "             .drop('index', axis=1))\n",
    "\n",
    "# add 1 to every value and take log\n",
    "base_data = (base_data+1).transform(lambda x : np.log(x))"
   ]
  },
  {
   "cell_type": "code",
   "execution_count": 274,
   "id": "4b23e513",
   "metadata": {},
   "outputs": [
    {
     "data": {
      "text/html": [
       "<div>\n",
       "<style scoped>\n",
       "    .dataframe tbody tr th:only-of-type {\n",
       "        vertical-align: middle;\n",
       "    }\n",
       "\n",
       "    .dataframe tbody tr th {\n",
       "        vertical-align: top;\n",
       "    }\n",
       "\n",
       "    .dataframe thead th {\n",
       "        text-align: right;\n",
       "    }\n",
       "</style>\n",
       "<table border=\"1\" class=\"dataframe\">\n",
       "  <thead>\n",
       "    <tr style=\"text-align: right;\">\n",
       "      <th></th>\n",
       "      <th>Year 1 Sales - Inf</th>\n",
       "      <th>Year 2 Sales - Inf</th>\n",
       "      <th>Year 3 Sales - Inf</th>\n",
       "      <th>Year 4 Sales - Inf</th>\n",
       "      <th>Year 5 Sales - Inf</th>\n",
       "    </tr>\n",
       "  </thead>\n",
       "  <tbody>\n",
       "    <tr>\n",
       "      <th>0</th>\n",
       "      <td>0.458040</td>\n",
       "      <td>2.974573</td>\n",
       "      <td>4.007656</td>\n",
       "      <td>4.764603</td>\n",
       "      <td>5.298983</td>\n",
       "    </tr>\n",
       "    <tr>\n",
       "      <th>1</th>\n",
       "      <td>5.495585</td>\n",
       "      <td>5.919769</td>\n",
       "      <td>6.343687</td>\n",
       "      <td>6.375090</td>\n",
       "      <td>6.416497</td>\n",
       "    </tr>\n",
       "    <tr>\n",
       "      <th>2</th>\n",
       "      <td>3.112891</td>\n",
       "      <td>4.764430</td>\n",
       "      <td>5.807421</td>\n",
       "      <td>6.493077</td>\n",
       "      <td>6.983779</td>\n",
       "    </tr>\n",
       "    <tr>\n",
       "      <th>3</th>\n",
       "      <td>3.051184</td>\n",
       "      <td>6.080072</td>\n",
       "      <td>7.426026</td>\n",
       "      <td>7.856537</td>\n",
       "      <td>8.160062</td>\n",
       "    </tr>\n",
       "    <tr>\n",
       "      <th>4</th>\n",
       "      <td>5.402336</td>\n",
       "      <td>6.544056</td>\n",
       "      <td>6.790240</td>\n",
       "      <td>7.095385</td>\n",
       "      <td>7.359181</td>\n",
       "    </tr>\n",
       "    <tr>\n",
       "      <th>...</th>\n",
       "      <td>...</td>\n",
       "      <td>...</td>\n",
       "      <td>...</td>\n",
       "      <td>...</td>\n",
       "      <td>...</td>\n",
       "    </tr>\n",
       "    <tr>\n",
       "      <th>186</th>\n",
       "      <td>7.230494</td>\n",
       "      <td>8.598712</td>\n",
       "      <td>9.013016</td>\n",
       "      <td>9.139398</td>\n",
       "      <td>9.248695</td>\n",
       "    </tr>\n",
       "    <tr>\n",
       "      <th>187</th>\n",
       "      <td>1.503272</td>\n",
       "      <td>4.028479</td>\n",
       "      <td>5.011051</td>\n",
       "      <td>5.382642</td>\n",
       "      <td>5.596714</td>\n",
       "    </tr>\n",
       "    <tr>\n",
       "      <th>188</th>\n",
       "      <td>4.444369</td>\n",
       "      <td>5.244573</td>\n",
       "      <td>5.763279</td>\n",
       "      <td>5.993623</td>\n",
       "      <td>6.060906</td>\n",
       "    </tr>\n",
       "    <tr>\n",
       "      <th>189</th>\n",
       "      <td>3.304056</td>\n",
       "      <td>4.553680</td>\n",
       "      <td>5.105551</td>\n",
       "      <td>5.117330</td>\n",
       "      <td>5.119555</td>\n",
       "    </tr>\n",
       "    <tr>\n",
       "      <th>190</th>\n",
       "      <td>5.423257</td>\n",
       "      <td>7.181575</td>\n",
       "      <td>7.661124</td>\n",
       "      <td>8.052314</td>\n",
       "      <td>8.191564</td>\n",
       "    </tr>\n",
       "  </tbody>\n",
       "</table>\n",
       "<p>191 rows × 5 columns</p>\n",
       "</div>"
      ],
      "text/plain": [
       "     Year 1 Sales - Inf  Year 2 Sales - Inf  Year 3 Sales - Inf  \\\n",
       "0              0.458040            2.974573            4.007656   \n",
       "1              5.495585            5.919769            6.343687   \n",
       "2              3.112891            4.764430            5.807421   \n",
       "3              3.051184            6.080072            7.426026   \n",
       "4              5.402336            6.544056            6.790240   \n",
       "..                  ...                 ...                 ...   \n",
       "186            7.230494            8.598712            9.013016   \n",
       "187            1.503272            4.028479            5.011051   \n",
       "188            4.444369            5.244573            5.763279   \n",
       "189            3.304056            4.553680            5.105551   \n",
       "190            5.423257            7.181575            7.661124   \n",
       "\n",
       "     Year 4 Sales - Inf  Year 5 Sales - Inf  \n",
       "0              4.764603            5.298983  \n",
       "1              6.375090            6.416497  \n",
       "2              6.493077            6.983779  \n",
       "3              7.856537            8.160062  \n",
       "4              7.095385            7.359181  \n",
       "..                  ...                 ...  \n",
       "186            9.139398            9.248695  \n",
       "187            5.382642            5.596714  \n",
       "188            5.993623            6.060906  \n",
       "189            5.117330            5.119555  \n",
       "190            8.052314            8.191564  \n",
       "\n",
       "[191 rows x 5 columns]"
      ]
     },
     "execution_count": 274,
     "metadata": {},
     "output_type": "execute_result"
    }
   ],
   "source": [
    "base_data"
   ]
  },
  {
   "cell_type": "code",
   "execution_count": 308,
   "id": "7ded209b",
   "metadata": {},
   "outputs": [],
   "source": [
    "lr = LinearRegression()"
   ]
  },
  {
   "cell_type": "markdown",
   "id": "c3dd8fa0",
   "metadata": {},
   "source": [
    "### Years 1-3"
   ]
  },
  {
   "cell_type": "code",
   "execution_count": 309,
   "id": "90c9466b",
   "metadata": {},
   "outputs": [],
   "source": [
    "# drop year 4 and year 5\n",
    "x = base_data.drop(['Year 4 Sales - Inf', 'Year 5 Sales - Inf'], axis=1)\n",
    "y = base_data['Year 5 Sales - Inf']"
   ]
  },
  {
   "cell_type": "code",
   "execution_count": 310,
   "id": "2bd0a9a5",
   "metadata": {},
   "outputs": [
    {
     "data": {
      "text/plain": [
       "(191, 3)"
      ]
     },
     "execution_count": 310,
     "metadata": {},
     "output_type": "execute_result"
    }
   ],
   "source": [
    "x.shape"
   ]
  },
  {
   "cell_type": "code",
   "execution_count": 311,
   "id": "848ba3d8",
   "metadata": {},
   "outputs": [
    {
     "data": {
      "text/plain": [
       "0.8181088870630957"
      ]
     },
     "execution_count": 311,
     "metadata": {},
     "output_type": "execute_result"
    }
   ],
   "source": [
    "# fit model\n",
    "lr.fit(x, y)\n",
    "\n",
    "# coefficient of determination of the model\n",
    "lr.score(x, y)"
   ]
  },
  {
   "cell_type": "code",
   "execution_count": 278,
   "id": "d56d04c6",
   "metadata": {},
   "outputs": [],
   "source": [
    "#plt.figure(figsize=(15, 10), facecolor='white')\n",
    "\n",
    "# residuals plot for the model\n",
    "#sns.residplot(x=lr.predict(x), y='Year 5 Sales - Inf', data=base_data)"
   ]
  },
  {
   "cell_type": "code",
   "execution_count": 279,
   "id": "bd5256f9",
   "metadata": {},
   "outputs": [],
   "source": [
    "pred_1_3 = (pd.read_excel(file)\n",
    "             .replace('no data', np.nan)\n",
    "             [['Company', 'Name of NME Approved', 'Molecule ID', \n",
    "               'Year 1 Sales - Inf', 'Year 2 Sales - Inf', \n",
    "               'Year 3 Sales - Inf', 'Year 4 Sales - Inf', \n",
    "               'Year 5 Sales - Inf']]\n",
    "            #drop rows that are missing values for year 1-3\n",
    "             .dropna(axis=0, subset=['Year 1 Sales - Inf', 'Year 2 Sales - Inf', 'Year 3 Sales - Inf'])\n",
    "             .reset_index()\n",
    "             .drop('index', axis=1))\n",
    "\n",
    "#only keep rows that are null in years 4 AND 5\n",
    "pred_1_3 = pred_1_3[pred_1_3['Year 5 Sales - Inf'].isnull()]\n",
    "pred_1_3 = pred_1_3[pred_1_3['Year 4 Sales - Inf'].isnull()]"
   ]
  },
  {
   "cell_type": "code",
   "execution_count": 280,
   "id": "cc27a457",
   "metadata": {},
   "outputs": [],
   "source": [
    "x_1_3 = (pred_1_3.drop(['Company', 'Name of NME Approved', 'Molecule ID', \n",
    "               'Year 4 Sales - Inf', 'Year 5 Sales - Inf'], axis=1))\n",
    "\n",
    "#add 1 and log transform\n",
    "x_1_3 = (x_1_3 + 1).transform(lambda x : np.log(x))"
   ]
  },
  {
   "cell_type": "code",
   "execution_count": 281,
   "id": "50d59fff",
   "metadata": {},
   "outputs": [],
   "source": [
    "# make sure you're fitting to the correct model here\n",
    "pred_1_3['year 5 prediction'] = lr.predict(x_1_3)\n",
    "\n",
    "# take inverse log\n",
    "pred_1_3['year 5 prediction'] = [np.e**x for x in pred_1_3['year 5 prediction']]\n",
    "pred_1_3['year 5 prediction'] = [x-1 for x in pred_1_3['year 5 prediction']]"
   ]
  },
  {
   "cell_type": "markdown",
   "id": "bf3a6f89",
   "metadata": {},
   "source": [
    "### Years 2-4"
   ]
  },
  {
   "cell_type": "code",
   "execution_count": 312,
   "id": "a425b52e",
   "metadata": {},
   "outputs": [],
   "source": [
    "# drop year 1 and year 5 (year 2-4)\n",
    "x = base_data.drop(['Year 1 Sales - Inf', 'Year 5 Sales - Inf'], axis=1)\n",
    "y = base_data['Year 5 Sales - Inf']"
   ]
  },
  {
   "cell_type": "code",
   "execution_count": 313,
   "id": "3cabda23",
   "metadata": {},
   "outputs": [
    {
     "data": {
      "text/plain": [
       "(207, 3)"
      ]
     },
     "execution_count": 313,
     "metadata": {},
     "output_type": "execute_result"
    }
   ],
   "source": [
    "x.shape"
   ]
  },
  {
   "cell_type": "code",
   "execution_count": 314,
   "id": "fce0db6d",
   "metadata": {},
   "outputs": [
    {
     "data": {
      "text/plain": [
       "0.9463770954009582"
      ]
     },
     "execution_count": 314,
     "metadata": {},
     "output_type": "execute_result"
    }
   ],
   "source": [
    "# build model\n",
    "lr.fit(x, y)\n",
    "\n",
    "# coefficient of determination of the model\n",
    "lr.score(x, y)"
   ]
  },
  {
   "cell_type": "code",
   "execution_count": 284,
   "id": "2cc41218",
   "metadata": {},
   "outputs": [],
   "source": [
    "#plt.figure(figsize=(15, 10), facecolor='white')\n",
    "\n",
    "# residual plot\n",
    "#sns.residplot(x=lr.predict(x), y='Year 5 Sales - Inf', data=base_data)"
   ]
  },
  {
   "cell_type": "code",
   "execution_count": 285,
   "id": "67a45deb",
   "metadata": {},
   "outputs": [],
   "source": [
    "pred_2_4 = (pd.read_excel(file)\n",
    "             .replace('no data', np.nan)\n",
    "             [['Company', 'Name of NME Approved', 'Molecule ID', \n",
    "               'Year 1 Sales - Inf', 'Year 2 Sales - Inf', \n",
    "               'Year 3 Sales - Inf', 'Year 4 Sales - Inf', \n",
    "               'Year 5 Sales - Inf']]\n",
    "            # drop rows that are null in years 2-4\n",
    "             .dropna(axis=0, subset=['Year 2 Sales - Inf', 'Year 3 Sales - Inf', 'Year 4 Sales - Inf'])\n",
    "             .reset_index()\n",
    "             .drop('index', axis=1))\n",
    "\n",
    "# keep only what is null for year 5\n",
    "pred_2_4 = pred_2_4[pred_2_4['Year 5 Sales - Inf'].isnull()]"
   ]
  },
  {
   "cell_type": "code",
   "execution_count": 286,
   "id": "7543ea91",
   "metadata": {},
   "outputs": [],
   "source": [
    "x_2_4 = (pred_2_4.drop(['Company', 'Name of NME Approved', 'Molecule ID', 'Year 1 Sales - Inf',\n",
    "                        'Year 5 Sales - Inf'], axis=1))"
   ]
  },
  {
   "cell_type": "code",
   "execution_count": 287,
   "id": "79063da1",
   "metadata": {},
   "outputs": [],
   "source": [
    "#added 2023\n",
    "x_2_4 = (x_2_4 + 1).transform(lambda x : np.log(x))"
   ]
  },
  {
   "cell_type": "code",
   "execution_count": 288,
   "id": "d9135551",
   "metadata": {},
   "outputs": [],
   "source": [
    "# make sure you're fitting to the correct model here\n",
    "pred_2_4['year 5 prediction'] = lr.predict(x_2_4)\n",
    "\n",
    "# take inverse log\n",
    "pred_2_4['year 5 prediction'] = [np.e**x for x in pred_2_4['year 5 prediction']]\n",
    "pred_2_4['year 5 prediction'] = [x-1 for x in pred_2_4['year 5 prediction']]"
   ]
  },
  {
   "cell_type": "code",
   "execution_count": 291,
   "id": "5255e65e",
   "metadata": {},
   "outputs": [],
   "source": [
    "# export to csv\n",
    "pred_1_3.to_csv('year 1-3 predictions.csv', index=False)\n",
    "pred_2_4.to_csv('year 2-4 predictions.csv', index=False)"
   ]
  },
  {
   "cell_type": "code",
   "execution_count": null,
   "id": "aba0538d",
   "metadata": {},
   "outputs": [],
   "source": []
  }
 ],
 "metadata": {
  "kernelspec": {
   "display_name": "Python 3 (ipykernel)",
   "language": "python",
   "name": "python3"
  },
  "language_info": {
   "codemirror_mode": {
    "name": "ipython",
    "version": 3
   },
   "file_extension": ".py",
   "mimetype": "text/x-python",
   "name": "python",
   "nbconvert_exporter": "python",
   "pygments_lexer": "ipython3",
   "version": "3.9.7"
  },
  "toc": {
   "base_numbering": 1,
   "nav_menu": {},
   "number_sections": true,
   "sideBar": true,
   "skip_h1_title": false,
   "title_cell": "Table of Contents",
   "title_sidebar": "Contents",
   "toc_cell": false,
   "toc_position": {},
   "toc_section_display": true,
   "toc_window_display": false
  }
 },
 "nbformat": 4,
 "nbformat_minor": 5
}
