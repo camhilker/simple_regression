{
 "cells": [
  {
   "cell_type": "code",
   "execution_count": 1,
   "id": "9185a908",
   "metadata": {},
   "outputs": [],
   "source": [
    "import pandas as pd\n",
    "import numpy as np\n",
    "\n",
    "from random import sample\n",
    "from scipy import stats"
   ]
  },
  {
   "cell_type": "code",
   "execution_count": 5,
   "id": "786b1aac",
   "metadata": {},
   "outputs": [],
   "source": [
    "file = 'GM23_Master Sales Table (FINAL) - with regressions.xlsx'"
   ]
  },
  {
   "cell_type": "code",
   "execution_count": 202,
   "id": "58cc85df",
   "metadata": {},
   "outputs": [],
   "source": [
    "base_data = (pd.read_excel(file)\n",
    "             .replace('no data', np.nan))\n",
    "\n",
    "relevant_data = base_data[['Company', 'Name of NME Approved', 'Molecule ID', \n",
    "           'Year Approved With Increment', 'Shared/Non-Shared', \n",
    "           'Self-Originated', 'Molecule Type', 'Novel', 'Oncology', \n",
    "           'Year 5 Sales - Inf']]\n",
    "\n",
    "#filter to just mol approved in 16-20, drop rows with no data for year 5 sales\n",
    "\n",
    "data_12_16 = relevant_data[(relevant_data['Year Approved With Increment'] >= 2016) & \n",
    "                           (relevant_data['Year Approved With Increment'] <= 2020)]\n",
    "data_12_16 = data_12_16.dropna(axis=0, subset=['Year 5 Sales - Inf'])\n",
    "\n",
    "# add 1 to every year 5 sales value and take log\n",
    "data_12_16['log_y5s'] = (data_12_16['Year 5 Sales - Inf']+1).transform(lambda x : np.log(x))\n",
    "data_12_16['log_y5s'] = [x-1 for x in data_12_16['log_y5s']]"
   ]
  },
  {
   "cell_type": "markdown",
   "id": "f5a00fd7",
   "metadata": {},
   "source": [
    "### T-Test Calculations"
   ]
  },
  {
   "cell_type": "code",
   "execution_count": 203,
   "id": "9bd3aec5",
   "metadata": {},
   "outputs": [],
   "source": [
    "def run_ttest(dataset, column, cond_1, cond_2):\n",
    "    print(dataset[column].value_counts())\n",
    "    return stats.ttest_ind(dataset['log_y5s'][dataset[column] == cond_1], \n",
    "                    dataset['log_y5s'][dataset[column] == cond_2])"
   ]
  },
  {
   "cell_type": "markdown",
   "id": "2942f349",
   "metadata": {},
   "source": [
    "#### Sharing"
   ]
  },
  {
   "cell_type": "code",
   "execution_count": 204,
   "id": "b0e16587",
   "metadata": {},
   "outputs": [],
   "source": [
    "#get rid of caps bc there's like 6 that aren't capped\n",
    "data_12_16['Shared/Non-Shared'] = [x.lower() for x in data_12_16['Shared/Non-Shared']]"
   ]
  },
  {
   "cell_type": "code",
   "execution_count": 205,
   "id": "50cb6c64",
   "metadata": {},
   "outputs": [
    {
     "name": "stdout",
     "output_type": "stream",
     "text": [
      "non-shared    55\n",
      "shared        34\n",
      "Name: Shared/Non-Shared, dtype: int64\n"
     ]
    },
    {
     "data": {
      "text/plain": [
       "Ttest_indResult(statistic=0.1999716096533118, pvalue=0.8419694689640551)"
      ]
     },
     "execution_count": 205,
     "metadata": {},
     "output_type": "execute_result"
    }
   ],
   "source": [
    "run_ttest(data_12_16, 'Shared/Non-Shared', 'shared', 'non-shared')"
   ]
  },
  {
   "cell_type": "markdown",
   "id": "1aa7d8fa",
   "metadata": {},
   "source": [
    "#### Origin"
   ]
  },
  {
   "cell_type": "code",
   "execution_count": 206,
   "id": "ce528e4d",
   "metadata": {},
   "outputs": [
    {
     "name": "stdout",
     "output_type": "stream",
     "text": [
      "0    56\n",
      "1    33\n",
      "Name: Self-Originated, dtype: int64\n"
     ]
    },
    {
     "data": {
      "text/plain": [
       "Ttest_indResult(statistic=0.6658610942624632, pvalue=0.5072615676270846)"
      ]
     },
     "execution_count": 206,
     "metadata": {},
     "output_type": "execute_result"
    }
   ],
   "source": [
    "run_ttest(data_12_16, 'Self-Originated', 1, 0)"
   ]
  },
  {
   "cell_type": "markdown",
   "id": "e8631839",
   "metadata": {},
   "source": [
    "#### Molecule Size"
   ]
  },
  {
   "cell_type": "code",
   "execution_count": 207,
   "id": "dcd7fccd",
   "metadata": {},
   "outputs": [
    {
     "name": "stdout",
     "output_type": "stream",
     "text": [
      "Small    53\n",
      "Large    36\n",
      "Name: Molecule Type, dtype: int64\n"
     ]
    },
    {
     "data": {
      "text/plain": [
       "Ttest_indResult(statistic=-1.3492592367057572, pvalue=0.1807547115620596)"
      ]
     },
     "execution_count": 207,
     "metadata": {},
     "output_type": "execute_result"
    }
   ],
   "source": [
    "run_ttest(data_12_16, 'Molecule Type', 'Small', 'Large')"
   ]
  },
  {
   "cell_type": "markdown",
   "id": "77ab273c",
   "metadata": {},
   "source": [
    "#### Novelty"
   ]
  },
  {
   "cell_type": "code",
   "execution_count": 208,
   "id": "63a0e522",
   "metadata": {},
   "outputs": [
    {
     "name": "stdout",
     "output_type": "stream",
     "text": [
      "1.0    35\n",
      "0.0    23\n",
      "Name: Novel, dtype: int64\n"
     ]
    },
    {
     "data": {
      "text/plain": [
       "Ttest_indResult(statistic=0.912592791468316, pvalue=0.36536892976040203)"
      ]
     },
     "execution_count": 208,
     "metadata": {},
     "output_type": "execute_result"
    }
   ],
   "source": [
    "run_ttest(data_12_16, 'Novel', 0, 1)"
   ]
  },
  {
   "cell_type": "markdown",
   "id": "fbb33636",
   "metadata": {},
   "source": [
    "#### Oncology"
   ]
  },
  {
   "cell_type": "code",
   "execution_count": 209,
   "id": "a51988ca",
   "metadata": {},
   "outputs": [
    {
     "name": "stdout",
     "output_type": "stream",
     "text": [
      "0    48\n",
      "1    41\n",
      "Name: Oncology, dtype: int64\n"
     ]
    },
    {
     "data": {
      "text/plain": [
       "Ttest_indResult(statistic=1.8802044379831484, pvalue=0.06342648342035591)"
      ]
     },
     "execution_count": 209,
     "metadata": {},
     "output_type": "execute_result"
    }
   ],
   "source": [
    "run_ttest(data_12_16, 'Oncology', 0, 1)"
   ]
  },
  {
   "cell_type": "code",
   "execution_count": null,
   "id": "a258949d",
   "metadata": {},
   "outputs": [],
   "source": []
  },
  {
   "cell_type": "code",
   "execution_count": null,
   "id": "a1f4f004",
   "metadata": {},
   "outputs": [],
   "source": []
  }
 ],
 "metadata": {
  "kernelspec": {
   "display_name": "Python 3 (ipykernel)",
   "language": "python",
   "name": "python3"
  },
  "language_info": {
   "codemirror_mode": {
    "name": "ipython",
    "version": 3
   },
   "file_extension": ".py",
   "mimetype": "text/x-python",
   "name": "python",
   "nbconvert_exporter": "python",
   "pygments_lexer": "ipython3",
   "version": "3.9.7"
  }
 },
 "nbformat": 4,
 "nbformat_minor": 5
}
